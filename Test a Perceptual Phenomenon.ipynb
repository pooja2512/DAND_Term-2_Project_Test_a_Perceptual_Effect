{
 "cells": [
  {
   "cell_type": "markdown",
   "metadata": {},
   "source": [
    "### Analyzing the Stroop Effect\n",
    "\n",
    "> ### Background Information\n",
    "\n",
    "> In a Stroop task, participants are presented with a list of words, with each word displayed in a color of ink. The participant’s task is to say out loud the color of the ink in which the word is printed. The task has two conditions: a congruent words condition, and an incongruent words condition. In the congruent words condition, the words being displayed are color words whose names match the colors in which they are printed.for example: the word \"BLUE\" is printed in a BLUE color, you should say \"BLUE\". In the incongruent words condition, the words displayed are color words whose names do not match the colors in which they are printed: for example if the word \"BLUE\" is printed in a red color, you should say \"RED\". In each case, we measure the time it takes to name the ink colors in equally-sized lists. Each participant will go through and record a time from each condition.\n",
    "\n",
    "\n"
   ]
  },
  {
   "cell_type": "markdown",
   "metadata": {},
   "source": [
    "(1) What is the independent variable? What is the dependent variable?"
   ]
  },
  {
   "cell_type": "markdown",
   "metadata": {},
   "source": [
    "> - **Independent Variable:Type of List of words presented to participant**\n",
    "\n",
    "> - **Dependent Variable: Time taken to name the ink of words**"
   ]
  },
  {
   "cell_type": "markdown",
   "metadata": {},
   "source": [
    "(2a) What is an appropriate set of hypotheses for this task? Specify your null and alternative hypotheses, and clearly define any notation used. Justify your choices."
   ]
  },
  {
   "cell_type": "markdown",
   "metadata": {},
   "source": [
    "**Null Hypothesis is the condition we beleive to be true before collecting any data and usually states there is no effect or that two groups are equal.**\n",
    "\n",
    "**Alternative Hypothesis is what we would like to prove to be true**\n",
    "\n",
    "**The Null Hypothesis  and Alternative Hypothesis are competing, non-overlapping hypotheses.**\n",
    "\n",
    "**Hence My Hypothesis statements for Stroop Effect are as follows:**\n",
    "\n",
    "> **Null Hypothesis H$0$ : Population mean time taken to name ink colors of congruent words = Population mean time taken to name ink colors of Incongruent words**\n",
    "\n",
    "> **Alternative Hypothesis H$1$ : Population mean time taken to name ink colors of congruent words ≠ Population mean time taken to name ink colors of incongruent words **\n",
    "\n",
    "### Mathematical Statements\n",
    "\n",
    "> **Null Hypothesis H$0$:        μc = μI**\n",
    " \n",
    "> **Alternative Hypothesis H$1$: μc ≠ μI**\n",
    "\n",
    "> - Where,\n",
    "      H0: Null Hypothesis\n",
    "      H1:Alternative Hypothesis\n",
    "      μc: Population mean time taken to name ink colors of congruent words \n",
    "      μI: Population mean time taken to name ink colors of incongruent words\n",
    "      = : Equality Sign\n",
    "      ≠ : Non-equality Sign\n"
   ]
  },
  {
   "cell_type": "markdown",
   "metadata": {},
   "source": [
    "(2b): Establish a statistical test"
   ]
  },
  {
   "cell_type": "markdown",
   "metadata": {},
   "source": [
    "### To Select the statistical test for Stroop Experiment:"
   ]
  },
  {
   "cell_type": "markdown",
   "metadata": {},
   "source": [
    "Let's decide which test we should select Z-test or t-test?\n",
    "\n",
    "**Z-test requirements**\n",
    "\n",
    "- Meaning- Z-test implies a hypothesis test which ascertains if the means of two datasets are different from each other when variance is given.\n",
    "\n",
    "- Population variance - Known\n",
    "\n",
    "- Sample Size - Large(n > 30)\n",
    "\n",
    "**t-test requirements**\n",
    "\n",
    "- Meaning - T-test refers to a type of parametric test that is applied to identify, how the means of two sets of data differ from one another when variance is not given.\n",
    "\n",
    "- Population Variance - Unknown\n",
    "\n",
    "- Sample Size - small(n < 30)\n",
    "\n",
    "**What is the size of the samples? 24**\n",
    "\n",
    "**Do we know any parameters of the population, like standard deviation,Population Mean? No**\n",
    "\n",
    "**This concludes we should perform t-test**\n",
    "\n",
    "Now we should decide which t-test to perform among them\n",
    "\n",
    "Here are the types of t-test available\n",
    "\n",
    "1.**1-sample t-test**:Tests whether the mean of a single population is equal to a target value\n",
    "\n",
    "2.**2-sample t-test**:Tests whether the difference between the means of two independent populations is equal to a target value\n",
    "\n",
    "3.**paired t-test**:Tests whether the mean of the differences between dependent or paired observations is equal to a target value\n",
    "\n",
    "> We are trying to find if two means are significantly different from each other or occured just by chance\n",
    "In our experiment individual is performing two test, depending on kind of test individual has performed we note down the time taken to perform the test and then finally calculate the mean of each test to come up with the answer that the means are different from each other \n",
    "our observations are dependent because individual is performing two test and then we are trying to come up to the conclusion hence we should perform paired t-test\n",
    "\n",
    "### Do we assume anything about the population distribution?\n",
    "\n",
    "> • The dependent variable should be approximately normally distributed.\n",
    "\n",
    "> • The dependent variable should not contain any outliers."
   ]
  },
  {
   "cell_type": "markdown",
   "metadata": {},
   "source": [
    "(3) Report some descriptive statistics regarding this dataset. Include at least one measure of central tendency and at least one measure of variability. The name of the data file is 'stroopdata.csv'."
   ]
  },
  {
   "cell_type": "code",
   "execution_count": 1,
   "metadata": {},
   "outputs": [],
   "source": [
    "#Importing the neccessary Librabries\n",
    "import pandas as pd\n",
    "import numpy as np\n",
    "% matplotlib inline\n",
    "from matplotlib import pyplot as plt\n",
    "import seaborn as sns\n"
   ]
  },
  {
   "cell_type": "code",
   "execution_count": 2,
   "metadata": {},
   "outputs": [
    {
     "data": {
      "text/html": [
       "<div>\n",
       "<style scoped>\n",
       "    .dataframe tbody tr th:only-of-type {\n",
       "        vertical-align: middle;\n",
       "    }\n",
       "\n",
       "    .dataframe tbody tr th {\n",
       "        vertical-align: top;\n",
       "    }\n",
       "\n",
       "    .dataframe thead th {\n",
       "        text-align: right;\n",
       "    }\n",
       "</style>\n",
       "<table border=\"1\" class=\"dataframe\">\n",
       "  <thead>\n",
       "    <tr style=\"text-align: right;\">\n",
       "      <th></th>\n",
       "      <th>Congruent</th>\n",
       "      <th>Incongruent</th>\n",
       "    </tr>\n",
       "  </thead>\n",
       "  <tbody>\n",
       "    <tr>\n",
       "      <th>0</th>\n",
       "      <td>12.079</td>\n",
       "      <td>19.278</td>\n",
       "    </tr>\n",
       "    <tr>\n",
       "      <th>1</th>\n",
       "      <td>16.791</td>\n",
       "      <td>18.741</td>\n",
       "    </tr>\n",
       "    <tr>\n",
       "      <th>2</th>\n",
       "      <td>9.564</td>\n",
       "      <td>21.214</td>\n",
       "    </tr>\n",
       "    <tr>\n",
       "      <th>3</th>\n",
       "      <td>8.630</td>\n",
       "      <td>15.687</td>\n",
       "    </tr>\n",
       "    <tr>\n",
       "      <th>4</th>\n",
       "      <td>14.669</td>\n",
       "      <td>22.803</td>\n",
       "    </tr>\n",
       "  </tbody>\n",
       "</table>\n",
       "</div>"
      ],
      "text/plain": [
       "   Congruent  Incongruent\n",
       "0     12.079       19.278\n",
       "1     16.791       18.741\n",
       "2      9.564       21.214\n",
       "3      8.630       15.687\n",
       "4     14.669       22.803"
      ]
     },
     "execution_count": 2,
     "metadata": {},
     "output_type": "execute_result"
    }
   ],
   "source": [
    "# Perform the analysis here\n",
    "df = pd.read_csv('stroopdata.csv')\n",
    "df.head()"
   ]
  },
  {
   "cell_type": "code",
   "execution_count": 3,
   "metadata": {},
   "outputs": [
    {
     "data": {
      "text/plain": [
       "(24, 2)"
      ]
     },
     "execution_count": 3,
     "metadata": {},
     "output_type": "execute_result"
    }
   ],
   "source": [
    "df.shape"
   ]
  },
  {
   "cell_type": "code",
   "execution_count": 4,
   "metadata": {},
   "outputs": [
    {
     "data": {
      "text/plain": [
       "Congruent      float64\n",
       "Incongruent    float64\n",
       "dtype: object"
      ]
     },
     "execution_count": 4,
     "metadata": {},
     "output_type": "execute_result"
    }
   ],
   "source": [
    "df.dtypes"
   ]
  },
  {
   "cell_type": "code",
   "execution_count": 5,
   "metadata": {},
   "outputs": [
    {
     "name": "stdout",
     "output_type": "stream",
     "text": [
      "Descriptive Statistics of Congruent :\n",
      "\n",
      " count    24.000000\n",
      "mean     14.051125\n",
      "std       3.559358\n",
      "min       8.630000\n",
      "25%      11.895250\n",
      "50%      14.356500\n",
      "75%      16.200750\n",
      "max      22.328000\n",
      "Name: Congruent, dtype: float64\n"
     ]
    }
   ],
   "source": [
    "print(\"Descriptive Statistics of Congruent :\\n\\n\",df['Congruent'].describe())"
   ]
  },
  {
   "cell_type": "markdown",
   "metadata": {},
   "source": [
    "> ### Here we have got the five number summary. Mean naming time of congruent words is 14.05 secs and the std deviation is 3.55 secs."
   ]
  },
  {
   "cell_type": "code",
   "execution_count": 6,
   "metadata": {},
   "outputs": [
    {
     "name": "stdout",
     "output_type": "stream",
     "text": [
      "Descriptive Statistics of Incongruent :\n",
      "\n",
      " count    24.000000\n",
      "mean     22.015917\n",
      "std       4.797057\n",
      "min      15.687000\n",
      "25%      18.716750\n",
      "50%      21.017500\n",
      "75%      24.051500\n",
      "max      35.255000\n",
      "Name: Incongruent, dtype: float64\n"
     ]
    }
   ],
   "source": [
    "print(\"Descriptive Statistics of Incongruent :\\n\\n\", df['Incongruent'].describe())"
   ]
  },
  {
   "cell_type": "markdown",
   "metadata": {},
   "source": [
    "> ### Average time for naming congruent words is  22.05 secs and the std deviation is 4.79 secs.Std deviation is measure of spread and it  suggest us that Time taken to name ink of Incongruent words  is more spread out than ink of  congruent words."
   ]
  },
  {
   "cell_type": "markdown",
   "metadata": {},
   "source": [
    "(4) Provide one or two visualizations that show the distribution of the sample data. Write one or two sentences noting what you observe about the plot or plots."
   ]
  },
  {
   "cell_type": "code",
   "execution_count": 7,
   "metadata": {},
   "outputs": [
    {
     "name": "stderr",
     "output_type": "stream",
     "text": [
      "C:\\Users\\pooja\\AppData\\Local\\Continuum\\anaconda3\\lib\\site-packages\\matplotlib\\axes\\_axes.py:6462: UserWarning: The 'normed' kwarg is deprecated, and has been replaced by the 'density' kwarg.\n",
      "  warnings.warn(\"The 'normed' kwarg is deprecated, and has been \"\n"
     ]
    },
    {
     "data": {
      "image/png": "[encoded data removed]",
      "text/plain": [
       "<Figure size 1224x432 with 1 Axes>"
      ]
     },
     "metadata": {},
     "output_type": "display_data"
    }
   ],
   "source": [
    "plt.figure(figsize = (17,6));\n",
    "sns.distplot(df['Congruent']);\n",
    "sns.distplot(df['Incongruent']);\n",
    "plt.xlabel('Time taken to name ink',fontsize = 18);\n",
    "plt.ylabel('Frequency',fontsize = 18);\n",
    "plt.title('Distribution of time taken to name ink of the words',fontsize = 18);"
   ]
  },
  {
   "cell_type": "markdown",
   "metadata": {},
   "source": [
    "> ### time taken to name congruent ink words is from 8 to 23 whereas time taken to name incongruent ink words is from 16 to 35.Maximum number of participant have taken 13-16 Secs to name the ink of congruent words while 19-22 secs have been taken to name ink incongruent words.\n",
    "\n",
    "> ### Distribution is approximately Normally Distributed"
   ]
  },
  {
   "cell_type": "code",
   "execution_count": 8,
   "metadata": {},
   "outputs": [
    {
     "data": {
      "image/png": "[encoded data removed]",
      "text/plain": [
       "<Figure size 1800x720 with 2 Axes>"
      ]
     },
     "metadata": {},
     "output_type": "display_data"
    }
   ],
   "source": [
    "#set figuresize and plot location\n",
    "fig,ax = plt.subplots(1,2,figsize=[25,10])\n",
    "\n",
    "#plot boxplot\n",
    "sns.boxplot(x ='Congruent',data = df,ax = ax[0],linewidth=3.5);\n",
    "sns.boxplot(x = 'Incongruent',data = df,ax = ax[1],linewidth = 3.5);\n",
    "\n",
    "#Set Labels\n",
    "ax[0].set_xlabel('Congruent',fontsize= 22);\n",
    "ax[1].set_xlabel('Incongruent',fontsize= 22);\n",
    "\n",
    "#Set title\n",
    "ax[0].set_title(\"Time taken to name ink words\",fontsize = 22);\n",
    "ax[1].set_title(\"Time taken to name ink words\",fontsize = 22);\n",
    "\n",
    "# Tight layout often produces nice results\n",
    "sns.set_context('poster')\n",
    "fig.tight_layout()\n",
    "\n",
    "plt.close(2);"
   ]
  },
  {
   "cell_type": "markdown",
   "metadata": {},
   "source": [
    "> ### Time taken to read congruent Ink words is from 8 to 23 however Incongruent ink words is from 14 to 24 35 and 33 being the outliers. \n",
    "\n",
    "> ### Interquartile range: \n",
    "\n",
    ">> **Congruent list:  4.31 **\n",
    "\n",
    ">> **Incongruent list: 5.33475**\n",
    "\n",
    "> ### Median of Congruent boxplot is 14.35 which tells 50% of the participant required time less than 14.35 to name ink colors while Median of Incongruent boxplot is 21.01 which tells 50% of the participant required time less than 21.01 to name ink colors.\n",
    "\n"
   ]
  },
  {
   "cell_type": "markdown",
   "metadata": {},
   "source": [
    "(5)  Now, perform the statistical test and report your results. What is your confidence level or Type I error associated with your test? What is your conclusion regarding the hypotheses you set up? Did the results match up with your expectations? **Hint:**  Think about what is being measured on each individual, and what statistic best captures how an individual reacts in each environment."
   ]
  },
  {
   "cell_type": "code",
   "execution_count": 9,
   "metadata": {},
   "outputs": [
    {
     "data": {
      "text/plain": [
       "14.051125000000004"
      ]
     },
     "execution_count": 9,
     "metadata": {},
     "output_type": "execute_result"
    }
   ],
   "source": [
    "time_con=df['Congruent'].mean()\n",
    "time_con"
   ]
  },
  {
   "cell_type": "code",
   "execution_count": 10,
   "metadata": {},
   "outputs": [
    {
     "data": {
      "text/plain": [
       "22.01591666666667"
      ]
     },
     "execution_count": 10,
     "metadata": {},
     "output_type": "execute_result"
    }
   ],
   "source": [
    "time_incon=df['Incongruent'].mean()\n",
    "time_incon"
   ]
  },
  {
   "cell_type": "code",
   "execution_count": 11,
   "metadata": {},
   "outputs": [
    {
     "data": {
      "text/plain": [
       "7.964791666666665"
      ]
     },
     "execution_count": 11,
     "metadata": {},
     "output_type": "execute_result"
    }
   ],
   "source": [
    "obs_diff=time_incon-time_con\n",
    "obs_diff"
   ]
  },
  {
   "cell_type": "code",
   "execution_count": 12,
   "metadata": {},
   "outputs": [],
   "source": [
    "#Bootstrap Approach\n",
    "diffs = []\n",
    "for i in range(10000):\n",
    "    df_sample = df.sample(df.shape[0],replace = True)\n",
    "    time_con=df_sample['Congruent'].mean()\n",
    "    time_incon=df_sample['Incongruent'].mean()\n",
    "    obs_diff=time_incon-time_con\n",
    "    diffs.append(obs_diff)"
   ]
  },
  {
   "cell_type": "code",
   "execution_count": 13,
   "metadata": {},
   "outputs": [
    {
     "data": {
      "image/png": "[encoded data removed]",
      "text/plain": [
       "<Figure size 1224x432 with 1 Axes>"
      ]
     },
     "metadata": {},
     "output_type": "display_data"
    }
   ],
   "source": [
    "plt.figure(figsize = (17,6));\n",
    "plt.hist(diffs);\n",
    "plt.title(\"Distribution difference in mean\",fontsize = 18);\n"
   ]
  },
  {
   "cell_type": "code",
   "execution_count": 14,
   "metadata": {},
   "outputs": [],
   "source": [
    "diffs = np.array(diffs)"
   ]
  },
  {
   "cell_type": "code",
   "execution_count": 15,
   "metadata": {},
   "outputs": [
    {
     "data": {
      "text/plain": [
       "(6.145443749999996, 9.968002083333328)"
      ]
     },
     "execution_count": 15,
     "metadata": {},
     "output_type": "execute_result"
    }
   ],
   "source": [
    "low,high = np.percentile(diffs,2.5) , np.percentile(diffs,97.5)\n",
    "low,high"
   ]
  },
  {
   "cell_type": "code",
   "execution_count": 16,
   "metadata": {},
   "outputs": [
    {
     "data": {
      "image/png": "[encoded data removed]",
      "text/plain": [
       "<Figure size 1224x432 with 1 Axes>"
      ]
     },
     "metadata": {},
     "output_type": "display_data"
    }
   ],
   "source": [
    "plt.figure(figsize = (17,6));\n",
    "plt.hist(diffs);\n",
    "plt.axvline(low,linewidth = 2.5,color = 'red');\n",
    "plt.axvline(high,linewidth = 2.5,color = 'red');\n",
    "plt.title(\"Distribution of difference in means showing 95% Confidence interval\",fontsize = 18);"
   ]
  },
  {
   "cell_type": "markdown",
   "metadata": {},
   "source": [
    "> ### We interpret this interval that the difference between the two sample means is estimated to be 7.9 and we are 95% confident that the true value lies between 6.3 and 9.9."
   ]
  },
  {
   "cell_type": "code",
   "execution_count": 17,
   "metadata": {},
   "outputs": [],
   "source": [
    "null_vals = np.random.normal(0,diffs.std(ddof = 1),diffs.shape[0])#for sample std deviation keep ddof = 1"
   ]
  },
  {
   "cell_type": "code",
   "execution_count": 18,
   "metadata": {},
   "outputs": [
    {
     "data": {
      "image/png": "[encoded data removed]",
      "text/plain": [
       "<Figure size 1224x432 with 1 Axes>"
      ]
     },
     "metadata": {},
     "output_type": "display_data"
    }
   ],
   "source": [
    "plt.figure(figsize = (17,6));\n",
    "plt.hist(null_vals);\n",
    "plt.axvline(obs_diff,linewidth=2.5,color = 'red');\n",
    "plt.title('Location of observed difference on null distribution',fontsize = 18);"
   ]
  },
  {
   "cell_type": "markdown",
   "metadata": {},
   "source": [
    "> - ### It clearly shows Average time taken to name ink colors of incongruent words is more than than congruent words.So we have evidence to reject the null."
   ]
  },
  {
   "cell_type": "code",
   "execution_count": 19,
   "metadata": {},
   "outputs": [
    {
     "data": {
      "text/plain": [
       "0.0"
      ]
     },
     "execution_count": 19,
     "metadata": {},
     "output_type": "execute_result"
    }
   ],
   "source": [
    "p_upper = (null_vals > obs_diff).mean()\n",
    "diff_means = 0 - obs_diff\n",
    "lower_compare = 0 + diff_means\n",
    "p_lower = (null_vals < lower_compare).mean()\n",
    "\n",
    "p_lower+p_upper"
   ]
  },
  {
   "cell_type": "markdown",
   "metadata": {},
   "source": [
    "> - ### As our probability is 0, we have evidence to reject the null "
   ]
  },
  {
   "cell_type": "code",
   "execution_count": 20,
   "metadata": {},
   "outputs": [],
   "source": [
    "import scipy.stats as stats"
   ]
  },
  {
   "cell_type": "markdown",
   "metadata": {},
   "source": [
    "> ### A t-test is an analysis of two populations means through the use of statistical examination.When we perform a t-test, we are usually trying to find evidence of a significant difference between population means.Also t-test is used when samples are less than 30 and the population standard deviation is not known."
   ]
  },
  {
   "cell_type": "code",
   "execution_count": 21,
   "metadata": {},
   "outputs": [
    {
     "data": {
      "text/plain": [
       "Ttest_relResult(statistic=-8.020706944109957, pvalue=4.103000585711178e-08)"
      ]
     },
     "execution_count": 21,
     "metadata": {},
     "output_type": "execute_result"
    }
   ],
   "source": [
    "#Calculates the T-test on TWO RELATED samples of scores, a and b.\n",
    "stats.ttest_rel(a=df['Congruent'],b=df['Incongruent'])"
   ]
  },
  {
   "cell_type": "markdown",
   "metadata": {},
   "source": [
    "> ### t-statistic is -8.0207 and two tailed-p-value is 4.10e-08 which nearly equal to 0 below our alpha level 5% .We conclude sample means are significantally different from each other.So we have evidence to reject the null and it suggest us time taken to name ink colors of incongruent words is different from congruent words."
   ]
  },
  {
   "cell_type": "markdown",
   "metadata": {},
   "source": [
    "(6) Optional: What do you think is responsible for the effects observed? Can you think of an alternative or similar task that would result in a similar effect? Some research about the problem will be helpful for thinking about these two questions!"
   ]
  },
  {
   "cell_type": "markdown",
   "metadata": {},
   "source": [
    "> ###  Interference in Stroop Effect occurs because humans can read more faster than naming the colors of words.Also because naming colors of the words require more attention.\n",
    "\n",
    "> ### Applications\n",
    "\n",
    ">> #### 1.Stroop Effect is commonly used in clinical settings. An increased interference effect is found in disorders such as brain damage, dementias\n",
    "\n",
    ">> #### 2.Stroop effect serves as an information processing approach to emotions this approach is called as emotional Stroop.Participant is given negative emotional words as well as neural words and participant has to name the colors of the words. study has found participant who are depressed are more likely to say color of negative emotion words  than neural words.\n",
    "\n",
    "### **To sum up,Stroop effect permit to measure a person's selective attention capacity and skills, as well as their processing speed ability**\n",
    "\n"
   ]
  },
  {
   "cell_type": "markdown",
   "metadata": {},
   "source": [
    "## Reference"
   ]
  },
  {
   "cell_type": "markdown",
   "metadata": {},
   "source": [
    "* What is Stroop Effect:   [Stroop_test](https://en.wikipedia.org/wiki/Stroop_effect)\n",
    "* [Inferential Statistics](https://classroom.udacity.com/courses/ud201)\n",
    "* Difference Between Z-test and t-test:  [KeyDifference](https://keydifferences.com/difference-between-t-test-and-z-test.html)\n",
    "* Types of t-test: [t-test](https://support.minitab.com/en-us/minitab-express/1/help-and-how-to/basic-statistics/inference/supporting-topics/tests-of-means/types-of-t-tests/)\n",
    "* [t-test Documentation](https://docs.scipy.org/doc/scipy-0.14.0/reference/generated/scipy.stats.ttest_rel.html)"
   ]
  },
  {
   "cell_type": "code",
   "execution_count": null,
   "metadata": {},
   "outputs": [],
   "source": []
  }
 ],
 "metadata": {
  "kernelspec": {
   "display_name": "Python 3",
   "language": "python",
   "name": "python3"
  },
  "language_info": {
   "codemirror_mode": {
    "name": "ipython",
    "version": 3
   },
   "file_extension": ".py",
   "mimetype": "text/x-python",
   "name": "python",
   "nbconvert_exporter": "python",
   "pygments_lexer": "ipython3",
   "version": "3.6.4"
  }
 },
 "nbformat": 4,
 "nbformat_minor": 2
}
